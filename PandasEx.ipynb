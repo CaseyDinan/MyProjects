{
 "cells": [
  {
   "cell_type": "markdown",
   "metadata": {},
   "source": [
    "Calculate, for each order number, how much the order costs. \n",
    "\n",
    "In other words, you're going to iterate through the DataFrame and, for each order number, add up the `item_price` for each item in the order.\n",
    "\n",
    "Store the order prices in a list. Then, tell me how much the 100th, 500th, and 1000th order cost. "
   ]
  },
  {
   "cell_type": "code",
   "execution_count": 2,
   "metadata": {},
   "outputs": [
    {
     "name": "stdout",
     "output_type": "stream",
     "text": [
      "100th order costs 8.75\n",
      "500th order costs 9.25\n",
      "1000th order costs 8.75\n"
     ]
    }
   ],
   "source": [
    "import pandas as pd\n",
    "chip = pd.read_csv(\"chipotle.tsv\", sep='\\t')\n",
    "itemPrices = []\n",
    "for index, rows in chip.iterrows():\n",
    "    price = rows.quantity * rows.item_price\n",
    "    itemPrices.append(price)\n",
    "print(\"100th order costs\", itemPrices[99])\n",
    "print(\"500th order costs\", itemPrices[499])\n",
    "print(\"1000th order costs\", itemPrices[999])"
   ]
  },
  {
   "cell_type": "code",
   "execution_count": 3,
   "metadata": {},
   "outputs": [
    {
     "ename": "SyntaxError",
     "evalue": "invalid syntax (<ipython-input-3-3aae3fe183fe>, line 1)",
     "output_type": "error",
     "traceback": [
      "\u001b[0;36m  File \u001b[0;32m\"<ipython-input-3-3aae3fe183fe>\"\u001b[0;36m, line \u001b[0;32m1\u001b[0m\n\u001b[0;31m    Make a new dictionary. Then, iterate through the DataFrame. For each `item_name`, do the following:\u001b[0m\n\u001b[0m         ^\u001b[0m\n\u001b[0;31mSyntaxError\u001b[0m\u001b[0;31m:\u001b[0m invalid syntax\n"
     ]
    }
   ],
   "source": [
    "Make a new dictionary. Then, iterate through the DataFrame. For each `item_name`, do the following:\n",
    "\n",
    "* if `dict[item_name]` exists, add `quantity` to it;\n",
    "* if not, set `dict[item_name]` to `quantity`;\n",
    "\n",
    "You're essentially counting the number of times that a given item has been ordered."
   ]
  },
  {
   "cell_type": "code",
   "execution_count": null,
   "metadata": {},
   "outputs": [],
   "source": []
  }
 ],
 "metadata": {
  "kernelspec": {
   "display_name": "Python 3",
   "language": "python",
   "name": "python3"
  },
  "language_info": {
   "codemirror_mode": {
    "name": "ipython",
    "version": 3
   },
   "file_extension": ".py",
   "mimetype": "text/x-python",
   "name": "python",
   "nbconvert_exporter": "python",
   "pygments_lexer": "ipython3",
   "version": "3.8.3"
  }
 },
 "nbformat": 4,
 "nbformat_minor": 4
}
