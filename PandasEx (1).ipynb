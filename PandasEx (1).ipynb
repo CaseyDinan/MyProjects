{
 "cells": [
  {
   "cell_type": "markdown",
   "metadata": {},
   "source": [
    "Calculate, for each order number, how much the order costs. \n",
    "\n",
    "In other words, you're going to iterate through the DataFrame and, for each order number, add up the `item_price` for each item in the order.\n",
    "\n",
    "Store the order prices in a list. Then, tell me how much the 100th, 500th, and 1000th order cost. "
   ]
  },
  {
   "cell_type": "code",
   "execution_count": 2,
   "metadata": {},
   "outputs": [
    {
     "name": "stdout",
     "output_type": "stream",
     "text": [
      "100th order costs 8.75\n",
      "500th order costs 9.25\n",
      "1000th order costs 8.75\n"
     ]
    }
   ],
   "source": [
    "import pandas as pd\n",
    "chip = pd.read_csv(\"chipotle.tsv\", sep='\\t')\n",
    "itemPrices = []\n",
    "for index, rows in chip.iterrows():\n",
    "    price = rows.quantity * rows.item_price\n",
    "    itemPrices.append(price)\n",
    "print(\"100th order costs\", itemPrices[99])\n",
    "print(\"500th order costs\", itemPrices[499])\n",
    "print(\"1000th order costs\", itemPrices[999])"
   ]
  },
  {
   "cell_type": "markdown",
   "metadata": {},
   "source": [
    "Make a new dictionary. Then, iterate through the DataFrame. For each `item_name`, do the following:\n",
    "\n",
    "* if `dict[item_name]` exists, add `quantity` to it;\n",
    "* if not, set `dict[item_name]` to `quantity`;\n",
    "\n",
    "You're essentially counting the number of times that a given item has been ordered."
   ]
  },
  {
   "cell_type": "code",
   "execution_count": 4,
   "metadata": {},
   "outputs": [
    {
     "name": "stdout",
     "output_type": "stream",
     "text": [
      "Chips and Fresh Tomato Salsa 110\n",
      "Izze 20\n",
      "Nantucket Nectar 27\n",
      "Chips and Tomatillo-Green Chili Salsa 31\n",
      "Chicken Bowl 726\n",
      "Side of Chips 101\n",
      "Steak Burrito 368\n",
      "Steak Soft Tacos 55\n",
      "Chips and Guacamole 479\n",
      "Chicken Crispy Tacos 47\n",
      "Chicken Soft Tacos 115\n",
      "Chicken Burrito 553\n",
      "Canned Soda 104\n",
      "Barbacoa Burrito 91\n",
      "Carnitas Burrito 59\n",
      "Carnitas Bowl 68\n",
      "Bottled Water 162\n",
      "Chips and Tomatillo Green Chili Salsa 43\n",
      "Barbacoa Bowl 66\n",
      "Chips 211\n",
      "Chicken Salad Bowl 110\n",
      "Steak Bowl 211\n",
      "Barbacoa Soft Tacos 25\n",
      "Veggie Burrito 95\n",
      "Veggie Bowl 85\n",
      "Steak Crispy Tacos 35\n",
      "Chips and Tomatillo Red Chili Salsa 48\n",
      "Barbacoa Crispy Tacos 11\n",
      "Veggie Salad Bowl 18\n",
      "Chips and Roasted Chili-Corn Salsa 18\n",
      "Chips and Roasted Chili Corn Salsa 22\n",
      "Carnitas Soft Tacos 40\n",
      "Chicken Salad 9\n",
      "Canned Soft Drink 301\n",
      "Steak Salad Bowl 29\n",
      "6 Pack Soft Drink 54\n",
      "Chips and Tomatillo-Red Chili Salsa 20\n",
      "Bowl 2\n",
      "Burrito 6\n",
      "Crispy Tacos 2\n",
      "Carnitas Crispy Tacos 7\n",
      "Steak Salad 4\n",
      "Chips and Mild Fresh Tomato Salsa 1\n",
      "Veggie Soft Tacos 7\n",
      "Carnitas Salad Bowl 6\n",
      "Barbacoa Salad Bowl 10\n",
      "Salad 2\n",
      "Veggie Crispy Tacos 1\n",
      "Veggie Salad 6\n",
      "Carnitas Salad 1\n"
     ]
    }
   ],
   "source": [
    "totalItems = {}\n",
    "for index, rows in chip.iterrows():\n",
    "    if rows.item_name not in totalItems:\n",
    "        totalItems[rows.item_name] = 1\n",
    "    else:\n",
    "        totalItems[rows.item_name] += 1\n",
    "for i in totalItems:\n",
    "    print(i, totalItems[i])"
   ]
  },
  {
   "cell_type": "code",
   "execution_count": null,
   "metadata": {},
   "outputs": [],
   "source": []
  }
 ],
 "metadata": {
  "kernelspec": {
   "display_name": "Python 3",
   "language": "python",
   "name": "python3"
  },
  "language_info": {
   "codemirror_mode": {
    "name": "ipython",
    "version": 3
   },
   "file_extension": ".py",
   "mimetype": "text/x-python",
   "name": "python",
   "nbconvert_exporter": "python",
   "pygments_lexer": "ipython3",
   "version": "3.8.3"
  }
 },
 "nbformat": 4,
 "nbformat_minor": 4
}
